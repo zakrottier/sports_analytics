{
 "cells": [
  {
   "cell_type": "markdown",
   "metadata": {
    "collapsed": true
   },
   "source": [
    "# Import Required Packages"
   ]
  },
  {
   "cell_type": "code",
   "execution_count": 3,
   "metadata": {
    "collapsed": true
   },
   "outputs": [],
   "source": [
    "import pandas as pd\n",
    "import numpy as np\n",
    "from sklearn.linear_model import LinearRegression\n",
    "import matplotlib.pyplot as plt\n",
    "from matplotlib.ticker import FuncFormatter"
   ]
  },
  {
   "cell_type": "markdown",
   "metadata": {},
   "source": [
    "# Load MLB Data (Team Salaries & Wins)"
   ]
  },
  {
   "cell_type": "code",
   "execution_count": 4,
   "metadata": {
    "collapsed": false
   },
   "outputs": [
    {
     "data": {
      "text/html": [
       "<div>\n",
       "<table border=\"1\" class=\"dataframe\">\n",
       "  <thead>\n",
       "    <tr style=\"text-align: right;\">\n",
       "      <th></th>\n",
       "      <th>RANK</th>\n",
       "      <th>TEAM</th>\n",
       "      <th>OPENING DAY</th>\n",
       "      <th>CURRENT</th>\n",
       "      <th>AVG SALARY</th>\n",
       "      <th>MEDIAN</th>\n",
       "      <th>YEAR</th>\n",
       "      <th>WINS</th>\n",
       "    </tr>\n",
       "  </thead>\n",
       "  <tbody>\n",
       "    <tr>\n",
       "      <th>30</th>\n",
       "      <td>1</td>\n",
       "      <td>Dodgers</td>\n",
       "      <td>223352402.0</td>\n",
       "      <td>223352402.0</td>\n",
       "      <td>7445080</td>\n",
       "      <td>5166666</td>\n",
       "      <td>2015</td>\n",
       "      <td>92</td>\n",
       "    </tr>\n",
       "    <tr>\n",
       "      <th>31</th>\n",
       "      <td>2</td>\n",
       "      <td>Yankees</td>\n",
       "      <td>213472857.0</td>\n",
       "      <td>213472857.0</td>\n",
       "      <td>7361133</td>\n",
       "      <td>3300000</td>\n",
       "      <td>2015</td>\n",
       "      <td>87</td>\n",
       "    </tr>\n",
       "    <tr>\n",
       "      <th>32</th>\n",
       "      <td>3</td>\n",
       "      <td>Red Sox</td>\n",
       "      <td>182161414.0</td>\n",
       "      <td>182161414.0</td>\n",
       "      <td>6072047</td>\n",
       "      <td>3500000</td>\n",
       "      <td>2015</td>\n",
       "      <td>78</td>\n",
       "    </tr>\n",
       "    <tr>\n",
       "      <th>33</th>\n",
       "      <td>4</td>\n",
       "      <td>Tigers</td>\n",
       "      <td>172282250.0</td>\n",
       "      <td>172282250.0</td>\n",
       "      <td>6891290</td>\n",
       "      <td>3000000</td>\n",
       "      <td>2015</td>\n",
       "      <td>74</td>\n",
       "    </tr>\n",
       "    <tr>\n",
       "      <th>34</th>\n",
       "      <td>5</td>\n",
       "      <td>Giants</td>\n",
       "      <td>166495942.0</td>\n",
       "      <td>166495942.0</td>\n",
       "      <td>5946284</td>\n",
       "      <td>4000000</td>\n",
       "      <td>2015</td>\n",
       "      <td>84</td>\n",
       "    </tr>\n",
       "    <tr>\n",
       "      <th>35</th>\n",
       "      <td>6</td>\n",
       "      <td>Nationals</td>\n",
       "      <td>166010977.0</td>\n",
       "      <td>166010977.0</td>\n",
       "      <td>5724516</td>\n",
       "      <td>2500000</td>\n",
       "      <td>2015</td>\n",
       "      <td>83</td>\n",
       "    </tr>\n",
       "    <tr>\n",
       "      <th>36</th>\n",
       "      <td>7</td>\n",
       "      <td>Angels</td>\n",
       "      <td>146449583.0</td>\n",
       "      <td>146449583.0</td>\n",
       "      <td>5049986</td>\n",
       "      <td>1312500</td>\n",
       "      <td>2015</td>\n",
       "      <td>85</td>\n",
       "    </tr>\n",
       "    <tr>\n",
       "      <th>37</th>\n",
       "      <td>8</td>\n",
       "      <td>Rangers</td>\n",
       "      <td>144307373.0</td>\n",
       "      <td>144307373.0</td>\n",
       "      <td>4509605</td>\n",
       "      <td>937500</td>\n",
       "      <td>2015</td>\n",
       "      <td>88</td>\n",
       "    </tr>\n",
       "    <tr>\n",
       "      <th>38</th>\n",
       "      <td>9</td>\n",
       "      <td>Phillies</td>\n",
       "      <td>133048000.0</td>\n",
       "      <td>133048000.0</td>\n",
       "      <td>4434933</td>\n",
       "      <td>700000</td>\n",
       "      <td>2015</td>\n",
       "      <td>63</td>\n",
       "    </tr>\n",
       "    <tr>\n",
       "      <th>39</th>\n",
       "      <td>10</td>\n",
       "      <td>Padres</td>\n",
       "      <td>126369628.0</td>\n",
       "      <td>126369628.0</td>\n",
       "      <td>4357573</td>\n",
       "      <td>1650000</td>\n",
       "      <td>2015</td>\n",
       "      <td>74</td>\n",
       "    </tr>\n",
       "  </tbody>\n",
       "</table>\n",
       "</div>"
      ],
      "text/plain": [
       "    RANK       TEAM  OPENING DAY      CURRENT  AVG SALARY   MEDIAN  YEAR  WINS\n",
       "30     1    Dodgers  223352402.0  223352402.0     7445080  5166666  2015    92\n",
       "31     2    Yankees  213472857.0  213472857.0     7361133  3300000  2015    87\n",
       "32     3    Red Sox  182161414.0  182161414.0     6072047  3500000  2015    78\n",
       "33     4     Tigers  172282250.0  172282250.0     6891290  3000000  2015    74\n",
       "34     5     Giants  166495942.0  166495942.0     5946284  4000000  2015    84\n",
       "35     6  Nationals  166010977.0  166010977.0     5724516  2500000  2015    83\n",
       "36     7     Angels  146449583.0  146449583.0     5049986  1312500  2015    85\n",
       "37     8    Rangers  144307373.0  144307373.0     4509605   937500  2015    88\n",
       "38     9   Phillies  133048000.0  133048000.0     4434933   700000  2015    63\n",
       "39    10     Padres  126369628.0  126369628.0     4357573  1650000  2015    74"
      ]
     },
     "execution_count": 4,
     "metadata": {},
     "output_type": "execute_result"
    }
   ],
   "source": [
    "mlb_salaries_wins = pd.read_excel(\"Datasets/MLB_Salaries&Wins.xlsx\")\n",
    "mlb_salaries_wins = mlb_salaries_wins[mlb_salaries_wins[\"YEAR\"] != 2016] # Have not completed full season yet\n",
    "mlb_salaries_wins.head(10)"
   ]
  },
  {
   "cell_type": "markdown",
   "metadata": {},
   "source": [
    "## Normalize Data"
   ]
  },
  {
   "cell_type": "code",
   "execution_count": 5,
   "metadata": {
    "collapsed": false
   },
   "outputs": [
    {
     "data": {
      "image/png": "[encoded data removed]",
      "text/plain": [
       "<matplotlib.figure.Figure at 0x10b9d0f10>"
      ]
     },
     "metadata": {},
     "output_type": "display_data"
    }
   ],
   "source": [
    "# Salaries should be normalized year-to-year\n",
    "yearly_data = mlb_salaries_wins.groupby(\"YEAR\").sum()\n",
    "years = yearly_data.index\n",
    "aggregated_salaries = yearly_data['OPENING DAY']\n",
    "\n",
    "\n",
    "# Set Unit formatting for y-axis\n",
    "def millions(x, pos):\n",
    "    'The two args are the value and tick position'\n",
    "    return '$%1.0fM' % (x*1e-6)\n",
    "\n",
    "formatter = FuncFormatter(millions)\n",
    "fig, ax = plt.subplots(figsize=(10, 6))\n",
    "ax.yaxis.set_major_formatter(formatter)\n",
    "\n",
    "\n",
    "# Plot League Salaries v. Year\n",
    "plt.scatter(years, aggregated_salaries,  color='black')\n",
    "plt.xlabel(\"Year\")\n",
    "plt.ylabel(\"League Salaries\")\n",
    "plt.show()"
   ]
  },
  {
   "cell_type": "markdown",
   "metadata": {},
   "source": [
    "#### Apply Function to Normalize Data"
   ]
  },
  {
   "cell_type": "code",
   "execution_count": null,
   "metadata": {
    "collapsed": true
   },
   "outputs": [],
   "source": [
    "# Normalize Data Here"
   ]
  },
  {
   "cell_type": "markdown",
   "metadata": {},
   "source": [
    "#### Select Required Columns"
   ]
  },
  {
   "cell_type": "code",
   "execution_count": 45,
   "metadata": {
    "collapsed": true
   },
   "outputs": [],
   "source": [
    "salaries = mlb_salaries_wins[\"OPENING DAY\"].reshape(-1,1)\n",
    "wins = mlb_salaries_wins[\"WINS\"].reshape(-1,1)"
   ]
  },
  {
   "cell_type": "markdown",
   "metadata": {},
   "source": [
    "#### Apply Linear Regression Model"
   ]
  },
  {
   "cell_type": "code",
   "execution_count": 46,
   "metadata": {
    "collapsed": false
   },
   "outputs": [
    {
     "data": {
      "text/plain": [
       "LinearRegression(copy_X=True, fit_intercept=True, n_jobs=1, normalize=False)"
      ]
     },
     "execution_count": 46,
     "metadata": {},
     "output_type": "execute_result"
    }
   ],
   "source": [
    "model = LinearRegression()\n",
    "model.fit(salaries, wins)"
   ]
  },
  {
   "cell_type": "markdown",
   "metadata": {},
   "source": [
    "# Create Scatterplot of Wins v. Salaries"
   ]
  },
  {
   "cell_type": "code",
   "execution_count": 47,
   "metadata": {
    "collapsed": false
   },
   "outputs": [
    {
     "data": {
      "image/png": "[encoded data removed]",
      "text/plain": [
       "<matplotlib.figure.Figure at 0x10cfb3690>"
      ]
     },
     "metadata": {},
     "output_type": "display_data"
    }
   ],
   "source": [
    "# Set Unit formatting for x-axis\n",
    "def millions(x, pos):\n",
    "    'The two args are the value and tick position'\n",
    "    return '$%1.0fM' % (x*1e-6)\n",
    "\n",
    "formatter = FuncFormatter(millions)\n",
    "fig, ax = plt.subplots(figsize=(10, 6))\n",
    "ax.xaxis.set_major_formatter(formatter)\n",
    "\n",
    "\n",
    "# Plot Wins v. Team Salaries\n",
    "plt.scatter(salaries, wins,  color='black')\n",
    "plt.plot(salaries, model.predict(salaries), color='blue',\n",
    "         linewidth=3)\n",
    "plt.xlabel(\"Team Salaries\")\n",
    "plt.ylabel(\"Team Wins\")\n",
    "plt.show()"
   ]
  },
  {
   "cell_type": "markdown",
   "metadata": {},
   "source": [
    "# Check Accuracy of Model"
   ]
  },
  {
   "cell_type": "code",
   "execution_count": 48,
   "metadata": {
    "collapsed": false
   },
   "outputs": [
    {
     "name": "stdout",
     "output_type": "stream",
     "text": [
      "Coefficient of Determination R^2 : 0.1063\n"
     ]
    }
   ],
   "source": [
    "print(\"Coefficient of Determination R^2 : %1.4f\" % model.score(salaries, wins))"
   ]
  },
  {
   "cell_type": "code",
   "execution_count": null,
   "metadata": {
    "collapsed": true
   },
   "outputs": [],
   "source": []
  }
 ],
 "metadata": {
  "kernelspec": {
   "display_name": "Python 2",
   "language": "python",
   "name": "python2"
  },
  "language_info": {
   "codemirror_mode": {
    "name": "ipython",
    "version": 2
   },
   "file_extension": ".py",
   "mimetype": "text/x-python",
   "name": "python",
   "nbconvert_exporter": "python",
   "pygments_lexer": "ipython2",
   "version": "2.7.11"
  }
 },
 "nbformat": 4,
 "nbformat_minor": 1
}
